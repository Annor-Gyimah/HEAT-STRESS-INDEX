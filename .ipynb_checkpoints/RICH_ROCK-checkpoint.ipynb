{
 "cells": [
  {
   "cell_type": "code",
   "execution_count": null,
   "metadata": {},
   "outputs": [],
   "source": [
    "for index, dataset in enumerate(Soil_Temp_Layer1):\n",
    "    ax = axes[index]\n",
    "    cs = dataset.plot.contourf(ax=ax, cmap='RdBu_r', levels = 30,\n",
    "                                                          vmin = 23, vmax = 38, add_colorbar = False, \n",
    "                               transform=ccrs.PlateCarree())\n",
    "    ax.coastlines()\n",
    "    ax.add_feature(cfeature.BORDERS, linestyle='--')\n",
    "    ax.set_title(month_name[index])\n",
    "    gl=ax.gridlines(crs=ccrs.PlateCarree(), draw_labels=True,\n",
    "                  linewidth=0.01, color='gray')\n",
    "    gl.xlabels_top = False\n",
    "    gl.ylabels_right = False\n",
    "    gl.xlabels_bottom= True\n",
    "    \n",
    "    m=plt.cm.ScalarMappable(cmap=cm.RdBu_r)\n",
    "    m.set_array(dataset)\n",
    "    m.set_clim(vmin = 23, vmax = 38)\n",
    "    plt.suptitle('SOIL TEMPERATURE LAYER 1', fontsize=14)\n",
    "    cax = plt.axes([0.88,0.25,0.023,0.6])\n",
    "    fig.subplots_adjust(top=0.94,wspace=-0.40)\n",
    "    \n",
    "    out=fig.colorbar(m, cax=cax, orientation='vertical')\n",
    "    out.set_label('Soil Temperature layer 1 (degC)', fontsize=12)\n",
    "    plt.savefig('Stl1_Temp.jpg')"
   ]
  }
 ],
 "metadata": {
  "kernelspec": {
   "display_name": "Python 3 (ipykernel)",
   "language": "python",
   "name": "python3"
  },
  "language_info": {
   "codemirror_mode": {
    "name": "ipython",
    "version": 3
   },
   "file_extension": ".py",
   "mimetype": "text/x-python",
   "name": "python",
   "nbconvert_exporter": "python",
   "pygments_lexer": "ipython3",
   "version": "3.9.7"
  }
 },
 "nbformat": 4,
 "nbformat_minor": 2
}
